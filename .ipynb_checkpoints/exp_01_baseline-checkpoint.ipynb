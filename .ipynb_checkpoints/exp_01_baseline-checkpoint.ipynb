{
 "cells": [
  {
   "cell_type": "code",
   "execution_count": null,
   "id": "ea9ac3cb",
   "metadata": {},
   "outputs": [],
   "source": [
    "import pandas as pd\n",
    "import numpy as np\n",
    "import matplotlib.pyplot as plt\n",
    "import random\n",
    "import os\n",
    "%matplotlib inline\n",
    "\n",
    "import seaborn as sns\n",
    "\n",
    "import string\n",
    "from sklearn.metrics import mean_squared_log_error\n",
    "from sklearn.metrics import mean_squared_error\n",
    "from matplotlib_venn import venn2\n",
    "import lightgbm as lgb\n",
    "import xgboost as xgb\n",
    "from tqdm import tqdm\n",
    "from sklearn.preprocessing import LabelEncoder\n",
    "import category_encoders as ce\n",
    "from sklearn.model_selection import KFold, StratifiedKFold\n",
    "\n",
    "from xfeat import (SelectCategorical, LabelEncoder, Pipeline, ConcatCombination, SelectNumerical, \n",
    "                   ArithmeticCombinations, TargetEncoder, aggregation, GBDTFeatureSelector, GBDTFeatureExplorer)\n",
    "from geopy.distance import geodesic\n",
    "\n",
    "\n",
    "from contextlib import contextmanager\n",
    "from time import time\n",
    "\n",
    "import warnings\n",
    "warnings.simplefilter('ignore')"
   ]
  },
  {
   "cell_type": "code",
   "execution_count": null,
   "id": "7458ddba",
   "metadata": {},
   "outputs": [],
   "source": [
    "class CFG:\n",
    "  exp = \"exp01\"\n",
    "  seed = 71\n",
    "  fold = 10\n",
    "\n",
    "CONFIG = CFG()"
   ]
  },
  {
   "cell_type": "code",
   "execution_count": null,
   "id": "d23a80ad",
   "metadata": {},
   "outputs": [],
   "source": [
    "input_dir = \"../data/\"\n",
    "output_dir = \"../submit/\""
   ]
  },
  {
   "cell_type": "code",
   "execution_count": null,
   "id": "2b6d5189",
   "metadata": {},
   "outputs": [],
   "source": [
    "pd.set_option(\"display.max_colwidth\", 50)\n",
    "\n",
    "# Import file\n",
    "paths = glob(BASE_PATH + 'input/train/*')\n",
    "train_dfs = []\n",
    "for path in paths:\n",
    "    train_df = pd.read_csv(path)\n",
    "    train_dfs.append(train_df)\n",
    "train_df = pd.concat(train_dfs)\n",
    "train_df.reset_index(drop=True, inplace=True)\n",
    "test_df = pd.read_csv(BASE_PATH + 'input/test.csv')"
   ]
  }
 ],
 "metadata": {
  "kernelspec": {
   "display_name": "Python 3 (ipykernel)",
   "language": "python",
   "name": "python3"
  },
  "language_info": {
   "codemirror_mode": {
    "name": "ipython",
    "version": 3
   },
   "file_extension": ".py",
   "mimetype": "text/x-python",
   "name": "python",
   "nbconvert_exporter": "python",
   "pygments_lexer": "ipython3",
   "version": "3.8.7"
  }
 },
 "nbformat": 4,
 "nbformat_minor": 5
}
